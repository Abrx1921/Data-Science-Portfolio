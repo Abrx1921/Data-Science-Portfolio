{
  "nbformat": 4,
  "nbformat_minor": 0,
  "metadata": {
    "colab": {
      "provenance": [],
      "authorship_tag": "ABX9TyNPgIFVg+V7pqMpJcDZowGa",
      "include_colab_link": true
    },
    "kernelspec": {
      "name": "python3",
      "display_name": "Python 3"
    },
    "language_info": {
      "name": "python"
    }
  },
  "cells": [
    {
      "cell_type": "markdown",
      "metadata": {
        "id": "view-in-github",
        "colab_type": "text"
      },
      "source": [
        "<a href=\"https://colab.research.google.com/github/Abrx1921/Data-Science-Portfolio/blob/main/about_me.ipynb\" target=\"_parent\"><img src=\"https://colab.research.google.com/assets/colab-badge.svg\" alt=\"Open In Colab\"/></a>"
      ]
    },
    {
      "cell_type": "markdown",
      "source": [
        "# **Abraham Saenz Sigala**\n",
        "\n",
        "Your preferred name: **Abe**\n",
        "\n",
        "Why did you sign up for this bootcamp?:\n",
        "\n",
        "**I am trying to land a job in the data space while I pursue my Bachelors in data science from ASU** 🎓\n",
        "\n",
        "If you had your human body, but the head of an animal, what animal would you pick?\n",
        "\n",
        "**Tiger**\n",
        "\n",
        "![Tekken: King](https://static.bandainamcoent.eu/high/tekken/tekken-8/02-characters/new-gallery/Screenshots_V1/King/king-poster.jpg)\n",
        "\n",
        "Bandai Namco Entertainment Europe. (n.d.). King | Tekken 8. Retrieved September 15, 2025, from https://en.bandainamcoent.eu/tekken/tekken-8/characters/king\n",
        "\n",
        "If you had to delete all but 3 apps from your smartphone, which ones would you keep?\n",
        "\n",
        "- **Youtube**\n",
        "- **Photos/Camera**\n",
        "- **???**\n",
        "\n",
        "What are your favorite podcasts? (Or if you're not a podcast person share your favorite tv show, music, or other category.)\n",
        "\n",
        "- **This Past Weekend by Theo Von**\n",
        "- **Southpark**\n",
        "\n",
        "What sports/hobbies do you enjoy and why?\n",
        "\n",
        "- **Music**\n",
        "  - I took some classes in Music Theory when I was younger and began creating instrumentals for friends or to upload to my youtube channel.\n",
        "- **Soccer**\n",
        "  - I used to play in College, Semi-pro (Oregon/ Portugal), Futsal (Albuquerque).\n",
        "- **Golf**\n",
        "  - Recently began \"golfing\". It nice to just relax!\n",
        "- **Video Games**\n",
        "  - It's fun but not relaxing...\n",
        "- **Hot Wheels**\n",
        "  - I like playing hotwheels with my son. Unfortunately he never gives me the nice cars...\n",
        "  "
      ],
      "metadata": {
        "id": "X-JQewDEQwM9"
      }
    },
    {
      "cell_type": "code",
      "source": [],
      "metadata": {
        "id": "6ck2hqUoQu-t"
      },
      "execution_count": null,
      "outputs": []
    }
  ]
}